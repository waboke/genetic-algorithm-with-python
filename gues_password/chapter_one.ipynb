{
 "cells": [
  {
   "cell_type": "markdown",
   "metadata": {},
   "source": [
    "## 1. Guess the Password \"Hello World!\""
   ]
  },
  {
   "cell_type": "code",
   "execution_count": 59,
   "metadata": {},
   "outputs": [],
   "source": [
    "geneSet = \" abcdefghijklmnopqrstuvwxyzABCDEFGHIJKLMNOPQRSTUVWXYZ!.\" \n",
    "target = \"My God!\""
   ]
  },
  {
   "cell_type": "code",
   "execution_count": 60,
   "metadata": {},
   "outputs": [],
   "source": [
    "import random\n",
    "\n",
    "def _generate_parent(length):\n",
    "    genes = [] \n",
    "    while len(genes) < length: \n",
    "        sampleSize = min(length - len(genes), len(geneSet)) \n",
    "        genes.extend(random.sample(geneSet, sampleSize))\n",
    "    return ''.join(genes)"
   ]
  },
  {
   "cell_type": "markdown",
   "metadata": {},
   "source": [
    "## 2. Fitness"
   ]
  },
  {
   "cell_type": "code",
   "execution_count": 61,
   "metadata": {},
   "outputs": [],
   "source": [
    "def get_fitness(guess): \n",
    "    return sum(1 for expected, actual in zip(target, guess)\n",
    "               if expected == actual)\n"
   ]
  },
  {
   "cell_type": "markdown",
   "metadata": {},
   "source": [
    "## 3. Mutate"
   ]
  },
  {
   "cell_type": "code",
   "execution_count": 62,
   "metadata": {},
   "outputs": [],
   "source": [
    "def _mutate(parent):\n",
    "    index = random.randrange(0, len(parent)) \n",
    "    childGenes = list(parent)\n",
    "    newGene, alternate = random.sample(geneSet, 2) \n",
    "    childGenes[index] = alternate \\\n",
    "        if newGene == childGenes[index] \\\n",
    "        else newGene\n",
    "    return ''.join(childGenes)\n"
   ]
  },
  {
   "cell_type": "markdown",
   "metadata": {},
   "source": [
    "## 4. Display"
   ]
  },
  {
   "cell_type": "code",
   "execution_count": 63,
   "metadata": {},
   "outputs": [],
   "source": [
    "import datetime\n",
    "def display(guess):\n",
    "    timeDiff = datetime.datetime.now() - startTime \n",
    "    fitness = get_fitness(guess) \n",
    "    print(\"{0}\\t{1}\\t{2}\".format(guess, fitness, str(timeDiff)))"
   ]
  },
  {
   "cell_type": "markdown",
   "metadata": {},
   "source": [
    "## 5 Main: \n",
    "The main program begins by initializing bestParent to a random sequence of letters and calling the display function"
   ]
  },
  {
   "cell_type": "code",
   "execution_count": 64,
   "metadata": {},
   "outputs": [
    {
     "name": "stdout",
     "output_type": "stream",
     "text": [
      "BhMscaS\t0\t0:00:00.000243\n"
     ]
    }
   ],
   "source": [
    "random.seed()\n",
    "startTime = datetime.datetime.now() \n",
    "bestParent = generate_parent(len(target)) \n",
    "bestFitness = get_fitness(bestParent) \n",
    "display(bestParent)"
   ]
  },
  {
   "cell_type": "markdown",
   "metadata": {},
   "source": [
    "<p>The final piece is the heart of the genetic engine. </p>\n",
    "<p>It is a loop that: </p>\n",
    "<p>• generates a guess,</p>\n",
    "<p>• requests the fitness for that guess, then </p>\n",
    "<p>• compares the fitness to that of the previous best guess, and </p>\n",
    "<p>• keeps the guess with the better fitness.</p>\n",
    "<p>This cycle repeats until a stop condition occurs, in this case when all the letters in the guess match those in the targe</p>"
   ]
  },
  {
   "cell_type": "code",
   "execution_count": 65,
   "metadata": {},
   "outputs": [
    {
     "name": "stdout",
     "output_type": "stream",
     "text": [
      "BhMGcaS\t1\t0:00:02.990295\n",
      "BhMGoaS\t2\t0:00:02.991552\n",
      "BhMGodS\t3\t0:00:02.994084\n",
      "Bh GodS\t4\t0:00:02.996085\n",
      "Mh GodS\t5\t0:00:02.996856\n",
      "My GodS\t6\t0:00:02.998449\n",
      "My God!\t7\t0:00:03.000056\n"
     ]
    }
   ],
   "source": [
    "while True:\n",
    "    child = mutate(bestParent) \n",
    "    childFitness = get_fitness(child) \n",
    "    if bestFitness >= childFitness: \n",
    "        continue\n",
    "    display(child) \n",
    "    if childFitness >= len(bestParent): \n",
    "        break\n",
    "    bestFitness = childFitness \n",
    "    bestParent = child"
   ]
  },
  {
   "cell_type": "code",
   "execution_count": null,
   "metadata": {},
   "outputs": [],
   "source": []
  }
 ],
 "metadata": {
  "kernelspec": {
   "display_name": "Python 3",
   "language": "python",
   "name": "python3"
  },
  "language_info": {
   "codemirror_mode": {
    "name": "ipython",
    "version": 3
   },
   "file_extension": ".py",
   "mimetype": "text/x-python",
   "name": "python",
   "nbconvert_exporter": "python",
   "pygments_lexer": "ipython3",
   "version": "3.8.5"
  }
 },
 "nbformat": 4,
 "nbformat_minor": 4
}
