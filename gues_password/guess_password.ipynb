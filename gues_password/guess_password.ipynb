{
 "cells": [
  {
   "cell_type": "code",
   "execution_count": 4,
   "metadata": {},
   "outputs": [
    {
     "name": "stdout",
     "output_type": "stream",
     "text": [
      "SQwevMqPpuxZYNtTbAiyG\t1\t0:00:00.000327\n",
      "SQwevMqtpuxZYNtTbAiyG\t2\t0:00:00.004540\n",
      "SQwemMqtpuxZYNtTbAiyG\t3\t0:00:00.005316\n",
      "SQwemMqtpuxZYNtTbAiy!\t4\t0:00:00.008101\n",
      "SQwemMqtpuxZY tTbAiy!\t5\t0:00:00.009816\n",
      "SQwemMqtpueZY tTbAiy!\t6\t0:00:00.009955\n",
      "SowemMqtpueZY tTbAiy!\t7\t0:00:00.010120\n",
      "SowemMqtpue Y tTbAiy!\t8\t0:00:00.010639\n",
      "SouemMqtpue Y tTbAiy!\t9\t0:00:00.011723\n",
      "SouemMqtpue a tTbAiy!\t10\t0:00:00.013138\n",
      "SouemMqtpue a tTbkiy!\t11\t0:00:00.024369\n",
      "SouemMqtpue a tobkiy!\t12\t0:00:00.025796\n",
      "SouemMqtpbe a tobkiy!\t13\t0:00:00.026672\n",
      "Sou mMqtpbe a tobkiy!\t14\t0:00:00.030695\n",
      "Sou mMqtpbe a tonkiy!\t15\t0:00:00.032384\n",
      "Sou muqtpbe a tonkiy!\t16\t0:00:00.041718\n",
      "Sou muqt be a tonkiy!\t17\t0:00:00.050375\n",
      "Sou muqt be a monkiy!\t18\t0:00:00.054791\n",
      "You muqt be a monkiy!\t19\t0:00:00.058445\n",
      "You muqt be a monkey!\t20\t0:00:00.080889\n",
      "You must be a monkey!\t21\t0:00:00.084658\n"
     ]
    }
   ],
   "source": [
    "import datetime \n",
    "import genetic\n",
    "\n",
    "def test_Hello_World(): \n",
    "    target = \"You must be a monkey!\" \n",
    "    guess_password(target)\n",
    "    \n",
    "def guess_password(target):\n",
    "    geneset = \" abcdefghijklmnopqrstuvwxyzABCDEFGHIJKLMNOPQRSTUVWXYZ!.\" \n",
    "    startTime = datetime.datetime.now()\n",
    "    \n",
    "    def fnGetFitness(genes): #1\n",
    "        return get_fitness(genes, target) \n",
    "    def fnDisplay(genes): #2\n",
    "        display(genes, target, startTime) \n",
    "    optimalFitness = len(target) \n",
    "    genetic.get_best(fnGetFitness, len(target), optimalFitness, geneset, fnDisplay)\n",
    "\n",
    "def display(genes, target, startTime): \n",
    "    timeDiff = datetime.datetime.now() - startTime \n",
    "    fitness = get_fitness(genes, target) \n",
    "    print(\"{0}\\t{1}\\t{2}\".format(genes, fitness, str(timeDiff)))\n",
    "    \n",
    "def get_fitness(genes, target): \n",
    "    return sum(1 for expected, actual in zip(target, genes) \n",
    "               if expected == actual)\n",
    "\n",
    "\n",
    "if __name__ == '__main__':\n",
    "    test_Hello_World()"
   ]
  },
  {
   "cell_type": "code",
   "execution_count": null,
   "metadata": {},
   "outputs": [],
   "source": []
  }
 ],
 "metadata": {
  "kernelspec": {
   "display_name": "Python 3",
   "language": "python",
   "name": "python3"
  },
  "language_info": {
   "codemirror_mode": {
    "name": "ipython",
    "version": 3
   },
   "file_extension": ".py",
   "mimetype": "text/x-python",
   "name": "python",
   "nbconvert_exporter": "python",
   "pygments_lexer": "ipython3",
   "version": "3.8.5"
  }
 },
 "nbformat": 4,
 "nbformat_minor": 4
}
