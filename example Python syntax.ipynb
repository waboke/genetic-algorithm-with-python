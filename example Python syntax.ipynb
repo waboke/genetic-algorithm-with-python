{
 "cells": [
  {
   "cell_type": "markdown",
   "metadata": {},
   "source": [
    "## Area of a circle "
   ]
  },
  {
   "cell_type": "code",
   "execution_count": 4,
   "metadata": {},
   "outputs": [
    {
     "name": "stdout",
     "output_type": "stream",
     "text": [
      "A circle with radius 9 has area 254.47\n"
     ]
    }
   ],
   "source": [
    "\n",
    "#this is a comment \n",
    "import math # imports make code from other modules available\n",
    "# code blocks are initiated by a trailing colon followed by indented lines \n",
    "\n",
    "class Circle: # define a class\n",
    "    def __init__(self, radius): # constructor with parameter radius \n",
    "        self.radius = radius     # store the parameter in a class variable \n",
    "    \n",
    "    def get_area(self):# define a function that belongs to the class\n",
    "        return math.pi \\\n",
    "            * self.radius \\\n",
    "            * self.radius  # trailing \\ continues the expression on the next line\n",
    " \n",
    "    # code that is not in a class is executed immediately \n",
    "for i in range(1, 10): \n",
    "    if (i & 1) == 0: \n",
    "        continue\n",
    "    circle = Circle(i) # create an instance\n",
    "print(\"A circle with radius {0} has area {1:0.2f}\".format(\n",
    "    i, circle.get_area() # `print` writes output to the console\n",
    ")) "
   ]
  },
  {
   "cell_type": "code",
   "execution_count": null,
   "metadata": {},
   "outputs": [],
   "source": []
  }
 ],
 "metadata": {
  "kernelspec": {
   "display_name": "Python 3",
   "language": "python",
   "name": "python3"
  },
  "language_info": {
   "codemirror_mode": {
    "name": "ipython",
    "version": 3
   },
   "file_extension": ".py",
   "mimetype": "text/x-python",
   "name": "python",
   "nbconvert_exporter": "python",
   "pygments_lexer": "ipython3",
   "version": "3.8.5"
  }
 },
 "nbformat": 4,
 "nbformat_minor": 4
}
