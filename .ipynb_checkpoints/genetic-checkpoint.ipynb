{
 "cells": [
  {
   "cell_type": "code",
   "execution_count": null,
   "metadata": {},
   "outputs": [],
   "source": [
    "import random\n",
    "\n",
    "def _generate_parent(length, geneSet):\n",
    "    genes = [] \n",
    "    while len(genes) < length: \n",
    "        sampleSize = min(length - len(genes), len(geneSet)) \n",
    "        genes.extend(random.sample(geneSet, sampleSize))\n",
    "    return ''.join(genes) \n",
    "\n",
    "def _mutate(parent, geneSet):\n",
    "    index = random.randrange(0, len(parent)) \n",
    "    childGenes = list(parent)\n",
    "    newGene, alternate = random.sample(geneSet, 2) \n",
    "    childGenes[index] = alternate \\\n",
    "        if newGene == childGenes[index] \\\n",
    "        else newGene\n",
    "    return ''.join(childGenes)\n",
    "\n",
    "def get_best(get_fitness, targetLen, optimalFitness, geneSet, display): \n",
    "    random.seed()\n",
    "    bestParent = _generate_parent(targetLen, geneSet)\n",
    "    bestFitness = get_fitness(bestParent) \n",
    "    display(bestParent) \n",
    "    if bestFitness >= optimalFitness:\n",
    "        return bestParent\n",
    "    \n",
    "    while True:\n",
    "        child = _mutate(bestParent, geneSet) \n",
    "        childFitness = get_fitness(child)\n",
    "        if bestFitness >= childFitness:\n",
    "            continue\n",
    "        display(child) \n",
    "        if childFitness >= optimalFitness: \n",
    "            return child\n",
    "        bestFitness = childFitness\n",
    "        bestParent = child\n",
    "\n"
   ]
  }
 ],
 "metadata": {
  "kernelspec": {
   "display_name": "Python 3",
   "language": "python",
   "name": "python3"
  },
  "language_info": {
   "codemirror_mode": {
    "name": "ipython",
    "version": 3
   },
   "file_extension": ".py",
   "mimetype": "text/x-python",
   "name": "python",
   "nbconvert_exporter": "python",
   "pygments_lexer": "ipython3",
   "version": "3.8.5"
  }
 },
 "nbformat": 4,
 "nbformat_minor": 4
}
